{
 "cells": [
  {
   "cell_type": "code",
   "execution_count": 1,
   "id": "ac3a5542",
   "metadata": {},
   "outputs": [],
   "source": [
    "# Python Coding Assessment\n",
    "# Q_1\n",
    "\n",
    "#You will have a number of elements and in the next n lines element of a list. You have to create a list from the given strings. You have to sort the list based on 2nd last character of a string.\n",
    "#For example: given list = ['great','hello','hiyo','abc'] \n",
    "#so your output_dictionary should be ['great', 'abc', 'hello','hiyo']\n",
    "\n",
    "#Input Format:\n",
    "#At first-line it will have an integer (number of elements inside a list). In the second line, it will have a string.\n",
    "\n",
    "#Output Format:\n",
    "#A single line containing a sorted list."
   ]
  },
  {
   "cell_type": "code",
   "execution_count": 28,
   "id": "933aab9e",
   "metadata": {},
   "outputs": [
    {
     "name": "stdout",
     "output_type": "stream",
     "text": [
      "6\n",
      "bbkkkjda\n",
      "fuuygbe\n",
      "hiihphuaa\n",
      "pipipn\n",
      "hpuihiza\n",
      "hgoiuhuibr\n",
      "['hiihphuaa', 'fuuygbe', 'hgoiuhuibr', 'bbkkkjda', 'pipipn', 'hpuihiza']\n"
     ]
    }
   ],
   "source": [
    "n = int(input())\n",
    "l1 = []\n",
    "for _ in range(0,n):\n",
    "    e = input()\n",
    "    l1.append(e)\n",
    "l1.sort(key=lambda x:x[-2])\n",
    "print(l1)"
   ]
  },
  {
   "cell_type": "code",
   "execution_count": 8,
   "id": "5f6d2000",
   "metadata": {},
   "outputs": [],
   "source": [
    "#Q_2\n",
    "\n",
    "#Your task is to complete the validate_triangle and validate_rectangle functions for the classes.Hint for validating is given in the\n",
    "#comments of the code. Also you will have to print the following after validation in respective functions:-\n",
    "\n",
    "#1.Invalid Triangle: If the triangle sum property of sides is not valid(More hint in the comments of code)\n",
    "#2.Valid Triangle:If the triangle sum property of sides is valid.\n",
    "\n",
    "#3.Valid Rectangle:If 2 side pairs are same and they are input in correct order like l,b,l,b\n",
    "#4.Invalid Rectangle: If Not Valid rectangle as stated above.\n",
    "\n",
    "#Input Format:\n",
    "#The side length of triangle followed by for rectangle in the next line in order.\n",
    "\n",
    "#Output Format:\n",
    "#since object are created in order, so first validate info about triangle will come and than rectangle.\n",
    "\n",
    "#Sample Input 0:\n",
    "#3 4 5\n",
    "#2 4 2 4\n",
    "\n",
    "#Sample Output 0:\n",
    "#Valid Triangle\n",
    "#Valid Rectangle"
   ]
  },
  {
   "cell_type": "code",
   "execution_count": 1,
   "id": "69e5d7ac",
   "metadata": {},
   "outputs": [
    {
     "name": "stdout",
     "output_type": "stream",
     "text": [
      "3 4 5\n",
      "2 4 2 4\n",
      "Valid Triangle\n",
      "Valid Rectangle\n"
     ]
    }
   ],
   "source": [
    "def validate_triangle(l,b,h):\n",
    "    if l+b >= h and b+h >= l and h+l >= b:\n",
    "        print('Valid Triangle')\n",
    "    else:\n",
    "        print('Not Valid Triangle')\n",
    "    \n",
    "def validate_rectangle(a,b,c,d):\n",
    "    if a==c and b==d and a*b == c*d:\n",
    "        print('Valid Rectangle')\n",
    "    else:\n",
    "        print('Not Valid Rectangle')\n",
    "\n",
    "l,b,h = list(map(float,input().split()))\n",
    "a,b,c,d = list(map(float,input().split()))\n",
    "\n",
    "validate_triangle(l,b,h)\n",
    "validate_rectangle(a,b,c,d)"
   ]
  },
  {
   "cell_type": "code",
   "execution_count": 3,
   "id": "31a7049f",
   "metadata": {},
   "outputs": [
    {
     "name": "stdout",
     "output_type": "stream",
     "text": [
      "10 1 1\n",
      "4 6 6 0\n",
      "Not Valid Triangle\n",
      "Not Valid Rectangle\n"
     ]
    }
   ],
   "source": [
    "l,b,h = list(map(float,input().split()))\n",
    "a,b,c,d = list(map(float,input().split()))\n",
    "validate_triangle(l,b,h)\n",
    "validate_rectangle(a,b,c,d)"
   ]
  },
  {
   "cell_type": "markdown",
   "id": "0db8c35b",
   "metadata": {},
   "source": []
  }
 ],
 "metadata": {
  "kernelspec": {
   "display_name": "Python 3 (ipykernel)",
   "language": "python",
   "name": "python3"
  },
  "language_info": {
   "codemirror_mode": {
    "name": "ipython",
    "version": 3
   },
   "file_extension": ".py",
   "mimetype": "text/x-python",
   "name": "python",
   "nbconvert_exporter": "python",
   "pygments_lexer": "ipython3",
   "version": "3.10.4"
  }
 },
 "nbformat": 4,
 "nbformat_minor": 5
}
