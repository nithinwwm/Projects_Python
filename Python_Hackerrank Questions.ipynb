{
 "cells": [
  {
   "cell_type": "code",
   "execution_count": 1,
   "id": "487b20d6",
   "metadata": {},
   "outputs": [
    {
     "name": "stdout",
     "output_type": "stream",
     "text": [
      "2\n",
      "a 20 50 60\n",
      "b 30 30 30 \n",
      "b\n",
      "30.00\n"
     ]
    }
   ],
   "source": [
    "#Question 1.\n",
    "#The provided code stub will read in a dictionary containing key/value pairs of name:[marks] \n",
    "#for a list of students. Print the average of the marks array for the student name provided, showing 2 places after the decimal.\n",
    "#solution\n",
    "\n",
    "\n",
    "n = int(input())\n",
    "student_marks = {}\n",
    "for i in range(n):\n",
    "    line = input().split()\n",
    "    name, scores = line[0], line[1:]\n",
    "    scores = map(float, scores)\n",
    "    student_marks[name] = scores\n",
    "query_name = input()\n",
    "marks = 0\n",
    "for j in student_marks[query_name]:\n",
    "    marks = marks+j\n",
    "    avg = marks/3\n",
    "print('%.2f'%avg)"
   ]
  },
  {
   "cell_type": "code",
   "execution_count": 3,
   "id": "b865d765",
   "metadata": {},
   "outputs": [
    {
     "name": "stdout",
     "output_type": "stream",
     "text": [
      "my name is nithin\n",
      "my-name-is-nithin\n"
     ]
    }
   ],
   "source": [
    "#Question 2.\n",
    "#You are given a string. Split the string on a \" \" (space) delimiter and join using a - hyphen.\n",
    "#Solution.\n",
    "\n",
    "def split_and_join(line):\n",
    "    y = line.split(' ')\n",
    "    y = '-'.join(y)\n",
    "    return y\n",
    "\n",
    "line = input()\n",
    "print(split_and_join(line))"
   ]
  },
  {
   "cell_type": "code",
   "execution_count": 7,
   "id": "5fe1c622",
   "metadata": {},
   "outputs": [
    {
     "name": "stdout",
     "output_type": "stream",
     "text": [
      "9\n",
      "1 2 3 4 5 6 7 8 9\n",
      "9\n",
      "10 1 2 3 11 21 55 6 8\n",
      "5\n"
     ]
    }
   ],
   "source": [
    "#Question 3.\n",
    "#Students of District College have a subscription to English and French newspapers. Some students \n",
    "#have subscribed to only the English newspaper, some have subscribed to only the French newspaper, \n",
    "#and some have subscribed to both newspapers.\n",
    "#You are given two sets of student roll numbers. One set has subscribed to the English newspaper, and\n",
    "#one set has subscribed to the French newspaper. Your task is to find the total number of students who \n",
    "#have subscribed to only English newspapers.\n",
    "\n",
    "#Solution.\n",
    "\n",
    "n = int(input())\n",
    "English = set(input().split(' '))\n",
    "b = int(input())\n",
    "French = set(input().split(' '))\n",
    "print(len(English.intersection(French)))"
   ]
  },
  {
   "cell_type": "code",
   "execution_count": 8,
   "id": "52b8d54f",
   "metadata": {},
   "outputs": [
    {
     "name": "stdout",
     "output_type": "stream",
     "text": [
      "5\n",
      "2 3 6 6 5\n",
      "5\n"
     ]
    }
   ],
   "source": [
    "#Question 4.\n",
    "#Given the participants' score sheet for your University Sports Day, you are required to find the runner-up score.\n",
    "#You are given  scores. Store them in a list and find the score of the runner-up.\n",
    "#Solution.\n",
    "\n",
    "n = int(input())\n",
    "arr = list(set(map(int,input().split(' '))))\n",
    "arr.sort()\n",
    "print(arr[-2])"
   ]
  },
  {
   "cell_type": "code",
   "execution_count": 9,
   "id": "14ecb647",
   "metadata": {},
   "outputs": [
    {
     "name": "stdout",
     "output_type": "stream",
     "text": [
      "HackerRank.com presents \"Pythonist 2\".\n",
      "hACKERrANK.COM PRESENTS \"pYTHONIST 2\".\n"
     ]
    }
   ],
   "source": [
    "#Question 5.\n",
    "#You are given a string and your task is to swap cases. In other words, convert all lowercase letters to uppercase \n",
    "#letters and vice versa\n",
    "#Solution.\n",
    "\n",
    "def swap_case(s):\n",
    "\n",
    "    str1 = []\n",
    "    for i in range(len(s)):\n",
    "        if (s[i].isupper())==True:\n",
    "            str1.append(s[i].lower())\n",
    "        elif (s[i].islower()==True):\n",
    "            str1.append(s[i].upper())\n",
    "        else:\n",
    "            str1.append(s[i]) \n",
    "        stri=''\n",
    "    return stri.join(str1)\n",
    "\n",
    "s = input()\n",
    "result = swap_case(s)\n",
    "print(result)"
   ]
  },
  {
   "cell_type": "code",
   "execution_count": 11,
   "id": "7f7be043",
   "metadata": {},
   "outputs": [
    {
     "name": "stdout",
     "output_type": "stream",
     "text": [
      "6\n",
      "7\n",
      "13\n",
      "-1\n",
      "42\n"
     ]
    }
   ],
   "source": [
    "#Question 6.\n",
    "#The provided code stub reads two integers from STDIN,  and . Add code to print three lines where:\n",
    "#The first line contains the sum of the two numbers.\n",
    "#The second line contains the difference of the two numbers (first - second).\n",
    "#The third line contains the product of the two numbers.\n",
    "#Solution.\n",
    "\n",
    "a = int(input())\n",
    "b = int(input())\n",
    "print(a+b)\n",
    "print(a-b)\n",
    "print(a*b)"
   ]
  },
  {
   "cell_type": "code",
   "execution_count": 1,
   "id": "33254408",
   "metadata": {},
   "outputs": [],
   "source": [
    "#Question 7.\n",
    "#Question 8.\n",
    "#Given the names and grades for each student in a class of  students, store them in a nested list and print\n",
    "#the name(s) of any student(s) having the second lowest grade\n",
    "#Solution.\n",
    "\n"
   ]
  },
  {
   "cell_type": "code",
   "execution_count": 2,
   "id": "7baaae86",
   "metadata": {},
   "outputs": [
    {
     "name": "stdout",
     "output_type": "stream",
     "text": [
      "abcdcdc\n",
      "cdc\n",
      "2\n"
     ]
    }
   ],
   "source": [
    "#Question 9.\n",
    "#In this challenge, the user enters a string and a substring. You have to print the number of times\n",
    "#that the substring occurs in the given string. String traversal will take place from left to right, \n",
    "#not from right to left.\n",
    "#Solution.\n",
    "\n",
    "def count_substring(string, sub_string):\n",
    "    count = 0\n",
    "    for i in range(len(string)):\n",
    "        if string[i:].startswith(sub_string):\n",
    "            count = count+1\n",
    "    return count\n",
    "\n",
    "if __name__ == '__main__':\n",
    "    string = input().strip()\n",
    "    sub_string = input().strip()\n",
    "    \n",
    "    count = count_substring(string, sub_string)\n",
    "    print(count)"
   ]
  },
  {
   "cell_type": "code",
   "execution_count": null,
   "id": "0a0a33a2",
   "metadata": {},
   "outputs": [],
   "source": [
    "#Question 10.\n",
    "#Consider a list (list = []). You can perform the following commands:\n",
    "\n",
    "#insert i e: Insert integer  at position .\n",
    "#print: Print the list.\n",
    "#remove e: Delete the first occurrence of integer .\n",
    "#append e: Insert integer  at the end of the list.\n",
    "#sort: Sort the list.\n",
    "#pop: Pop the last element from the list.\n",
    "#reverse: Reverse the list.\n",
    "\n",
    "#Solution.\n",
    "N = int(input())\n",
    "l=[]\n",
    "for i in range(N):\n",
    "    x=input().split(\" \")\n",
    "    command=x[0]\n",
    "    if command=='insert':\n",
    "        l.insert(int(x[1]),int(x[2]))\n",
    "    if command=='remove':\n",
    "        l.remove(int(x[1]))\n",
    "    if command=='append':\n",
    "        l.append(int(x[1]))\n",
    "    if command=='sort':\n",
    "        l.sort()\n",
    "    if command=='reverse':\n",
    "        l.reverse()\n",
    "\n",
    "    if command=='pop':\n",
    "        if (len(l)!=0):\n",
    "            l.pop()\n",
    "    if command=='print':\n",
    "        print(l)"
   ]
  },
  {
   "cell_type": "code",
   "execution_count": null,
   "id": "3119f075",
   "metadata": {},
   "outputs": [],
   "source": []
  }
 ],
 "metadata": {
  "kernelspec": {
   "display_name": "Python 3 (ipykernel)",
   "language": "python",
   "name": "python3"
  },
  "language_info": {
   "codemirror_mode": {
    "name": "ipython",
    "version": 3
   },
   "file_extension": ".py",
   "mimetype": "text/x-python",
   "name": "python",
   "nbconvert_exporter": "python",
   "pygments_lexer": "ipython3",
   "version": "3.9.6"
  }
 },
 "nbformat": 4,
 "nbformat_minor": 5
}
