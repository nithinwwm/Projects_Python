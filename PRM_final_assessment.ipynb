{
 "cells": [
  {
   "cell_type": "raw",
   "id": "d4e3e033",
   "metadata": {},
   "source": [
    "Python Q_1\n",
    "You will be given a list. You have to print a list whose 1st element should be largest\n",
    "and 2nd should be the smallest then the 3rd should be 2nd largest and 4th should be 2nd smallest and so on."
   ]
  },
  {
   "cell_type": "code",
   "execution_count": 8,
   "id": "94a710e4",
   "metadata": {},
   "outputs": [
    {
     "name": "stdout",
     "output_type": "stream",
     "text": [
      "[9, 1, 8, 2, 7, 4, 6, 5]\n"
     ]
    }
   ],
   "source": [
    "#l = list(map(int,input().split()))\n",
    "l = [1,2,9,4,5,6,7,8]\n",
    "final_list = []\n",
    "l.sort()\n",
    "#print(l)\n",
    "\n",
    "for i in range(len(l)):\n",
    "    if i%2 == 0:\n",
    "        ele = l.pop()\n",
    "        final_list.append(ele)\n",
    "    elif i%2 != 0:\n",
    "        ele = l.pop(0)\n",
    "        final_list.append(ele)\n",
    "        \n",
    "print(final_list)"
   ]
  },
  {
   "cell_type": "code",
   "execution_count": null,
   "id": "d44720ac",
   "metadata": {},
   "outputs": [],
   "source": []
  },
  {
   "cell_type": "code",
   "execution_count": null,
   "id": "4fabc968",
   "metadata": {},
   "outputs": [],
   "source": []
  },
  {
   "cell_type": "code",
   "execution_count": null,
   "id": "8500b666",
   "metadata": {},
   "outputs": [],
   "source": []
  },
  {
   "cell_type": "raw",
   "id": "ee42903f",
   "metadata": {},
   "source": [
    "Python Q_2\n",
    "Find nth fibonacci number. If it starts with 0,1,1,2.....\n",
    "Also, Print Incorrect Input if n is less than or equal to 0.\n",
    "\n",
    "Input Format:\n",
    "Call the function with n\n",
    "Output Format:\n",
    "Print the nth fibonacci number"
   ]
  },
  {
   "cell_type": "code",
   "execution_count": 5,
   "id": "3dbd6e2d",
   "metadata": {},
   "outputs": [
    {
     "name": "stdout",
     "output_type": "stream",
     "text": [
      "76\n"
     ]
    },
    {
     "data": {
      "text/plain": [
       "2111485077978050"
      ]
     },
     "execution_count": 5,
     "metadata": {},
     "output_type": "execute_result"
    }
   ],
   "source": [
    "n = int(input())\n",
    "\n",
    "def nthfinbonacchi(n):\n",
    "    if n<=0:\n",
    "        print('Incorrect Input')\n",
    "    else:\n",
    "        l = []\n",
    "        x,y = 0,1\n",
    "        for i in range(n):\n",
    "            l.append(x)\n",
    "            x,y = y,x+y\n",
    "        return l[n-1]\n",
    "        \n",
    "nthfinbonacchi(n)"
   ]
  },
  {
   "cell_type": "code",
   "execution_count": 6,
   "id": "268de352",
   "metadata": {},
   "outputs": [
    {
     "name": "stdout",
     "output_type": "stream",
     "text": [
      "Incorrect Input\n"
     ]
    }
   ],
   "source": [
    "nthfinbonacchi(0)"
   ]
  },
  {
   "cell_type": "code",
   "execution_count": 7,
   "id": "9406c885",
   "metadata": {},
   "outputs": [
    {
     "data": {
      "text/plain": [
       "2"
      ]
     },
     "execution_count": 7,
     "metadata": {},
     "output_type": "execute_result"
    }
   ],
   "source": [
    "nthfinbonacchi(4)"
   ]
  },
  {
   "cell_type": "code",
   "execution_count": 8,
   "id": "ea6576a0",
   "metadata": {},
   "outputs": [
    {
     "name": "stdout",
     "output_type": "stream",
     "text": [
      "Incorrect Input\n"
     ]
    }
   ],
   "source": [
    "nthfinbonacchi(-3)"
   ]
  },
  {
   "cell_type": "code",
   "execution_count": null,
   "id": "c4a1c58d",
   "metadata": {},
   "outputs": [],
   "source": []
  }
 ],
 "metadata": {
  "kernelspec": {
   "display_name": "Python 3 (ipykernel)",
   "language": "python",
   "name": "python3"
  },
  "language_info": {
   "codemirror_mode": {
    "name": "ipython",
    "version": 3
   },
   "file_extension": ".py",
   "mimetype": "text/x-python",
   "name": "python",
   "nbconvert_exporter": "python",
   "pygments_lexer": "ipython3",
   "version": "3.10.4"
  }
 },
 "nbformat": 4,
 "nbformat_minor": 5
}
